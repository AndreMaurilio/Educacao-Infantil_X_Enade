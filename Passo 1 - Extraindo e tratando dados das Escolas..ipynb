{
 "cells": [
  {
   "cell_type": "code",
   "execution_count": null,
   "metadata": {},
   "outputs": [],
   "source": [
    "# -----------ABRE E LE ARQUIVO COM NOMES DAS CIDADES E ESTADOS----------\n",
    "dados = open(\n",
    "    r\"C:\\Users\\André\\CursoPyLadiesSP-master\\TRABALHO\\\\Educacao-Infantil_X_Enade\\\\city.CSV\")\n",
    "\n",
    "cidade = []\n",
    "creche = []\n",
    "infantil = []\n",
    "primario = []\n",
    "transportInf = []\n",
    "transportPrim = []\n",
    "transpotCrec = []"
   ]
  },
  {
   "cell_type": "markdown",
   "metadata": {},
   "source": [
    "Abro o arquivo contendo o nome da cidade,estado e codigo e inicializo as variaveis e os arrays."
   ]
  },
  {
   "cell_type": "code",
   "execution_count": null,
   "metadata": {},
   "outputs": [],
   "source": [
    "with open(r\"C:\\\\Users\\\\André\\\\CursoPyLadiesSP-master\\\\TRABALHO\\\\micro_censo_escolar_2016\\\\DADOS\\\\MATRICULA_SUDESTE.CSV\") as f:\n",
    "    next(f)\n",
    "    for campos in f:\n",
    "        campos = campos.split(\"|\")\n",
    "        # SE A CIDADE AINDA NÃO FOI ADICIONADA A LISTA, ADICIONO ELA E INICIALIZO OS CAMPOS QUE ESTÃO NA MESMA LINHA\n",
    "        if campos[77] not in cidade:\n",
    "            cidade.append(campos[77])\n",
    "            creche.append(0)\n",
    "            infantil.append(0)\n",
    "            primario.append(0)\n",
    "            transportInf.append(0)\n",
    "            transportPrim.append(0)\n",
    "            transpotCrec.append(0)\n",
    "        # ----- VERIFICA QUAL A IDADE DO ALUNO E INCREMENTA O CAMPO CORRETO\n",
    "        if campos[6] == '5':\n",
    "            infantil[cidade.index(campos[77])] += 1\n",
    "            if campos[24] == '1':\n",
    "                transportInf[cidade.index(campos[77])] += 1\n",
    "        elif campos[6] == '7':\n",
    "            primario[cidade.index(campos[77])] += 1\n",
    "            if campos[24] == '1':\n",
    "                transportPrim[cidade.index(campos[77])] += 1\n",
    "        elif campos[6] == '2':\n",
    "            creche[cidade.index(campos[77])] += 1\n",
    "            if campos[24] == '1':\n",
    "                transpotCrec[cidade.index(campos[77])] += 1"
   ]
  },
  {
   "cell_type": "markdown",
   "metadata": {},
   "source": [
    "Separa-se e contabiliza os alunos por idade, 2 anos = creche, 5 anos = infantil, e 7 anos = primario, tambem é contabilizado se utiliza transporte publico."
   ]
  },
  {
   "cell_type": "code",
   "execution_count": null,
   "metadata": {},
   "outputs": [],
   "source": [
    "# INICIALIZO OS ARRAYS COM O TAMANHO DO ARRAY DO CODIGO DE CIDADE, ELE FUNCIONARA COMO UM 'PK', ASSIM SUA POSIÇÃO NO INDICE \n",
    "# VINCULARÁ ELE AO NOME DA CIDADE E DO ESTADO.\n",
    "cidade_n = [\"N/D\"] * len(cidade)\n",
    "estado_n = [\"N/D\"] * len(cidade)\n",
    "for nome in dados:\n",
    "    nome = nome.split(\";\")\n",
    "    if(nome[0] in cidade):\n",
    "        cidade_n[cidade.index(nome[0])] = nome[1]\n",
    "        estado_n[cidade.index(nome[0])] = nome[2]\n"
   ]
  },
  {
   "cell_type": "markdown",
   "metadata": {},
   "source": [
    "Adiciono o nome e estado da cidade utilizando indice do array, dexandos no mesmo indice do codigo da cidade, que é dado único."
   ]
  },
  {
   "cell_type": "code",
   "execution_count": null,
   "metadata": {},
   "outputs": [],
   "source": [
    "wrt2016 = open(\n",
    "    \"C:\\\\Users\\\\André\\\\CursoPyLadiesSP-master\\\\TRABALHO\\\\Educacao-Infantil_X_Enade\\\\escola_2016.txt\", \"w\")\n",
    "cont = 0\n",
    "for s in cidade:\n",
    "    # ESCREVE: CODIGO DA CIDADE,NOME DA CIDADE,ESTADO,ALUNOS NA CRECHE,AL NO INFANTIL, AL NO PRIMARIO, TRANSPORTE P CRECHE,T. P INFANTI, T. P PRIMARIO,T TOTAL\n",
    "    linha = s + \";\" + cidade_n[cont] + \";\" + estado_n[cont][:2] + \";\" + str(creche[cont])+\";\" + str(infantil[cont]) + \";\" + str(primario[cont]) + \";\"+str(\n",
    "        transpotCrec[cont])+\";\"+str(transportInf[cont])+\";\" + str(transportPrim[cont]) + \";\" + str(transpotCrec[cont]+transportInf[cont]+transportPrim[cont]) + \"\\n\"\n",
    "    wrt2016.writelines(linha)\n",
    "    cont += 1\n",
    "wrt2016.close()"
   ]
  },
  {
   "cell_type": "markdown",
   "metadata": {},
   "source": [
    "Escreve num arquivo o nome da codigo da cidade,o nome da cidade, o estado, a quantidade de alunos na creche, no infantil, no primario, o transporte publico pra creche,infantil e primario."
   ]
  },
  {
   "cell_type": "code",
   "execution_count": null,
   "metadata": {},
   "outputs": [],
   "source": []
  }
 ],
 "metadata": {
  "kernelspec": {
   "display_name": "Python 3",
   "language": "python",
   "name": "python3"
  },
  "language_info": {
   "codemirror_mode": {
    "name": "ipython",
    "version": 3
   },
   "file_extension": ".py",
   "mimetype": "text/x-python",
   "name": "python",
   "nbconvert_exporter": "python",
   "pygments_lexer": "ipython3",
   "version": "3.7.4"
  }
 },
 "nbformat": 4,
 "nbformat_minor": 2
}
