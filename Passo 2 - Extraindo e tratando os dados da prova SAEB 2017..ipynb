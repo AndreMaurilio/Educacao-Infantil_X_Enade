{
 "cells": [
  {
   "cell_type": "code",
   "execution_count": null,
   "metadata": {},
   "outputs": [],
   "source": [
    "idade_cod = []\n",
    "escola_cod = []\n",
    "pes_port = []\n",
    "pro_port = []\n",
    "pro_port_saeb = []\n",
    "pes_mat = []\n",
    "pro_mat = []\n",
    "pro_mat_saeb = []\n",
    "creches = []\n",
    "preescola = []\n",
    "primario = []\n",
    "qt_aluno = []\n",
    "cont = 0\n",
    "p = 0"
   ]
  },
  {
   "cell_type": "markdown",
   "metadata": {},
   "source": [
    "Inicializando as variáveis e os arrays"
   ]
  },
  {
   "cell_type": "code",
   "execution_count": null,
   "metadata": {},
   "outputs": [],
   "source": [
    "def flutuante(x):\n",
    "     if (x == ''):\n",
    "         return 0\n",
    "     else:\n",
    "         return round(float(x), 1)"
   ]
  },
  {
   "cell_type": "markdown",
   "metadata": {},
   "source": [
    "Definindo função que evita erros ao icrementar os campos."
   ]
  },
  {
   "cell_type": "code",
   "execution_count": null,
   "metadata": {},
   "outputs": [],
   "source": [
    "f = open(r\"C:\\Users\\André\\CursoPyLadiesSP-master\\TRABALHO\\microdados_saeb_2017\\DADOS\\TS_ALUNO_9EF.csv\")\n",
    "\n",
    "for campos in f:\n",
    "    campos = campos.split(',')\n",
    "    if campos[2] == '35' or campos[2] == '33' or campos[2] == '32' or campos[2] == '31': # VERIFICA SE O ESTADO É DO SUDESTE\n",
    "        if campos[3] not in cidade_cod: # SE A CIDADE AINDA NÃO FOI ADICIONADA A LISTA, ADICIONO ELA E INICIALIZA OS CAMPOS.\n",
    "            cidade_cod.append(campos[3])\n",
    "            qt_aluno.append(0)\n",
    "            qt_aluno[cidade_cod.index(campos[3])] += 1\n",
    "            pro_port_saeb.append(0)\n",
    "            pro_port_saeb[cidade_cod.index(campos[3])] += flutuante(campos[29])\n",
    "            pro_mat_saeb.append(0)\n",
    "            pro_mat_saeb[cidade_cod.index(campos[3])] += flutuante(campos[33])\n",
    "            creches.append(0)\n",
    "            preescola.append(0)\n",
    "            primario.append(0)\n",
    "            if campos[82] == 'A':\n",
    "                creches[cidade_cod.index(campos[3])] += 1\n",
    "            elif campos[82] == 'B':\n",
    "                preescola[cidade_cod.index(campos[3])] += 1\n",
    "            elif campos[82] == 'C':\n",
    "                primario[cidade_cod.index(campos[3])] += 1\n",
    "        else:    ## SE ELA JA FOI ADICIONADA, INCREMENTO AS MEDIAS \n",
    "            qt_aluno[cidade_cod.index(campos[3])] += 1\n",
    "            pro_port_saeb[cidade_cod.index(campos[3])] += flutuante(campos[29])\n",
    "            pro_mat_saeb[cidade_cod.index(campos[3])] += flutuante(campos[33])\n",
    "            if campos[82] == 'A':\n",
    "                creches[cidade_cod.index(campos[3])] += 1\n",
    "            elif campos[82] == 'B':\n",
    "                preescola[cidade_cod.index(campos[3])] += 1\n",
    "            elif campos[82] == 'C':\n",
    "                primario[cidade_cod.index(campos[3])] += 1"
   ]
  },
  {
   "cell_type": "markdown",
   "metadata": {},
   "source": [
    "Extrai e contabiliza as notas da provas por cidades."
   ]
  },
  {
   "cell_type": "code",
   "execution_count": null,
   "metadata": {},
   "outputs": [],
   "source": [
    "# COM OS DADOS JÁ SEPARADOS, ESCREVO NUM ARQUIVO CSV PARA MANIPULAR DE FORMA MAIS RÁPIDA E SIMPLES AS ÁNALISES\n",
    "saeb2017 = open(\n",
    "    \"C:\\\\Users\\\\André\\\\CursoPyLadiesSP-master\\\\TRABALHO\\\\Educacao-Infantil_X_Enade\\\\saeb-2017.csv\", \"w\")\n",
    "cont = 0\n",
    "for s in cidade_cod:\n",
    "    saeb2017.writelines(s+';'+str(qt_aluno[cont])+';'\n",
    "                        + str(round((pro_port_saeb[cont]/qt_aluno[cont]), 2)) + ';'+str(\n",
    "                            round((pro_mat_saeb[cont]/qt_aluno[cont]), 2))\n",
    "                        + ';'+str(creches[cont])+';' + str(preescola[cont])+';'+str(primario[cont])+\"\\n\")\n",
    "    cont += 1\n",
    "\n",
    "saeb2017.close()"
   ]
  },
  {
   "cell_type": "markdown",
   "metadata": {},
   "source": [
    "Escreve num arquivo CSV o codigo da cidade, a quantidade de alunos, a media de português por cidade, a média de matematica por cidade, a quantidade de alunos que iniciaram os estudos na creche, no infantil e no primario."
   ]
  },
  {
   "cell_type": "code",
   "execution_count": null,
   "metadata": {},
   "outputs": [],
   "source": []
  }
 ],
 "metadata": {
  "kernelspec": {
   "display_name": "Python 3",
   "language": "python",
   "name": "python3"
  },
  "language_info": {
   "codemirror_mode": {
    "name": "ipython",
    "version": 3
   },
   "file_extension": ".py",
   "mimetype": "text/x-python",
   "name": "python",
   "nbconvert_exporter": "python",
   "pygments_lexer": "ipython3",
   "version": "3.7.4"
  }
 },
 "nbformat": 4,
 "nbformat_minor": 2
}
